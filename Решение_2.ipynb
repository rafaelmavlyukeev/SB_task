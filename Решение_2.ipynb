{
 "cells": [
  {
   "cell_type": "code",
   "execution_count": 1,
   "metadata": {},
   "outputs": [],
   "source": [
    "import copy"
   ]
  },
  {
   "cell_type": "markdown",
   "metadata": {},
   "source": [
    "В этом решении уровень иерархии для элемента иерархии определяется рекурсивной функцией get_node_level.\n",
    "\n",
    "В остальном - идея та же"
   ]
  },
  {
   "cell_type": "code",
   "execution_count": 2,
   "metadata": {},
   "outputs": [],
   "source": [
    "file_name = 'SB_task_data.csv'\n",
    "\n",
    "hierarchy_list = list()\n",
    "with open(file_name, 'r') as hier_file:\n",
    "    for i, line in enumerate(hier_file):\n",
    "        if i != 0:\n",
    "            hierarchy_list.append(line.strip().split(';'))"
   ]
  },
  {
   "cell_type": "code",
   "execution_count": 3,
   "metadata": {},
   "outputs": [],
   "source": [
    "def get_parentID(node, hierarchy):\n",
    "    for elem in hierarchy:\n",
    "        if elem[0] == node:\n",
    "            return elem[1]\n",
    "\n",
    "\n",
    "def insert_node(hierarchy_parsed, node, parentID, level):\n",
    "    for i, elem in enumerate(hierarchy_parsed):\n",
    "        if elem[0] == parentID:\n",
    "            hierarchy_parsed.insert(i + 1, [node, level])\n",
    "\n",
    "\n",
    "def get_node_level(node, hierarchy, i=-1):\n",
    "    if node == '':\n",
    "        return i\n",
    "    else:\n",
    "        parentID = get_parentID(node, hierarchy)\n",
    "        return get_node_level(parentID, hierarchy, i + 1)\n",
    "\n",
    "\n",
    "def get_curr_level_nodes(h_wa, level):\n",
    "    curr_level_elems = list()\n",
    "    for elem in h_wa:\n",
    "        if elem[1] == level:\n",
    "            curr_level_elems.append(elem[0])\n",
    "    return sorted(curr_level_elems, reverse=(level != 0))"
   ]
  },
  {
   "cell_type": "code",
   "execution_count": 4,
   "metadata": {},
   "outputs": [],
   "source": [
    "h_wa = []\n",
    "for elem in hierarchy_list:\n",
    "    h_wa.append([elem[0], get_node_level(elem[0], hierarchy_list)])\n",
    "h_wa = sorted(h_wa, key=lambda x: (len(x), x))"
   ]
  },
  {
   "cell_type": "code",
   "execution_count": 5,
   "metadata": {},
   "outputs": [],
   "source": [
    "level = 0\n",
    "hierarchy_parsed = []\n",
    "\n",
    "while True:\n",
    "\n",
    "    curr_level_nodes = get_curr_level_nodes(h_wa, level)\n",
    "\n",
    "    if curr_level_nodes == []:\n",
    "        break\n",
    "\n",
    "    for i, elem in enumerate(curr_level_nodes):\n",
    "        if level == 0:\n",
    "            hierarchy_parsed.insert(i, [elem, level])\n",
    "        else:\n",
    "            parentID = get_parentID(elem, hierarchy_list)\n",
    "            insert_node(hierarchy_parsed, elem, parentID, level)\n",
    "\n",
    "    level += 1"
   ]
  },
  {
   "cell_type": "code",
   "execution_count": 6,
   "metadata": {},
   "outputs": [
    {
     "name": "stdout",
     "output_type": "stream",
     "text": [
      " 01000000\n",
      "   01010000\n",
      "     01010100\n",
      "     01010200\n",
      "   01020000\n",
      " 02000000\n",
      "   02010000\n",
      "     02010100\n",
      "       02010101\n",
      " 03000000\n",
      "   03010000\n",
      " 04000000\n"
     ]
    }
   ],
   "source": [
    "for elem in hierarchy_parsed:\n",
    "    print('  ' * elem[1], elem[0])"
   ]
  },
  {
   "cell_type": "code",
   "execution_count": null,
   "metadata": {},
   "outputs": [],
   "source": []
  }
 ],
 "metadata": {
  "kernelspec": {
   "display_name": "Python 3",
   "language": "python",
   "name": "python3"
  },
  "language_info": {
   "codemirror_mode": {
    "name": "ipython",
    "version": 3
   },
   "file_extension": ".py",
   "mimetype": "text/x-python",
   "name": "python",
   "nbconvert_exporter": "python",
   "pygments_lexer": "ipython3",
   "version": "3.7.3"
  }
 },
 "nbformat": 4,
 "nbformat_minor": 2
}
