{
 "cells": [
  {
   "cell_type": "code",
   "execution_count": 1,
   "metadata": {},
   "outputs": [],
   "source": [
    "import pandas as pd\n",
    "import copy"
   ]
  },
  {
   "cell_type": "code",
   "execution_count": 2,
   "metadata": {},
   "outputs": [],
   "source": [
    "file_name = 'SB_task_data.csv'"
   ]
  },
  {
   "cell_type": "code",
   "execution_count": 3,
   "metadata": {},
   "outputs": [],
   "source": [
    "# Читаем файл. Структура файла соответствует структуре, которую рисовали на встрече.\n",
    "# Считаем, что поле ID (childID) - уникально (то есть элемент имеет только одного родителя)\n",
    "# Считаем, что иерархия в файле корректна (нет циклов)\n",
    "hierarchy_list = list()\n",
    "with open(file_name, 'r') as hier_file:\n",
    "    for i, line in enumerate(hier_file):        \n",
    "        if i != 0:\n",
    "            hierarchy_list.append(line.strip().split(';'))"
   ]
  },
  {
   "cell_type": "code",
   "execution_count": 4,
   "metadata": {},
   "outputs": [
    {
     "data": {
      "text/plain": [
       "[['01000000', ''],\n",
       " ['01010000', '01000000'],\n",
       " ['01010100', '01010000'],\n",
       " ['01010200', '01010000'],\n",
       " ['01020000', '01000000'],\n",
       " ['02000000', ''],\n",
       " ['02010000', '02000000'],\n",
       " ['02010100', '02010000'],\n",
       " ['02010101', '02010100'],\n",
       " ['03000000', ''],\n",
       " ['03010000', '03000000'],\n",
       " ['04000000', '']]"
      ]
     },
     "execution_count": 4,
     "metadata": {},
     "output_type": "execute_result"
    }
   ],
   "source": [
    "# Делаем еще список working area\n",
    "# Копию делаем через deepcopy (если делать copy, то будет беда :) не сразу это понял, пришлось повозиться)\n",
    "h_wa = copy.deepcopy(hierarchy_list)\n",
    "# Данные в файлике сделаны в произвольном порядке (чтобы проверить, что сортировка работает)\n",
    "# Выводим на печать сортированный список.\n",
    "sorted(hierarchy_list, key = lambda x: x[0])"
   ]
  },
  {
   "cell_type": "markdown",
   "metadata": {},
   "source": [
    "**Задачу понимаем следующим образом:**\n",
    "\n",
    "Дана иерархия в виде списка пар [childID, parentID]. \n",
    "Необходимо распечать эту иерархия в понятном для человека виде (как в bex-отчетах).\n",
    "\n",
    "**Решение следующее:**\n",
    "\n",
    "Хотим получить список, который можно вывести на экран \"в лоб\". \n",
    "Этот список будет иметь следующую структуру: [[elem1, elem_level], [elem2, elem_level], ...]. Где elem - это ID элемента иерархии, а elem_level - уровень элемента в иерархии(он определяет отступ при выводе). Элементы этого списка должны стоять в правильном порядке (в порядке, в котором будем выводить на печать).\n",
    "\n",
    "Соответственно задача сводится к:\n",
    "1. Определению уровня элемента в иерархии\n",
    "2. Определению положения элемента в иерархии (какой порядковый номер у элемента при печати)\n"
   ]
  },
  {
   "cell_type": "code",
   "execution_count": 5,
   "metadata": {},
   "outputs": [],
   "source": [
    "# В этой ячейке определены все функции\n",
    "\n",
    "# Функия возвращает родителя произвольного ID\n",
    "def get_parentID(node, hierarchy):\n",
    "    for elem in hierarchy:\n",
    "        if elem[0] == node:\n",
    "            return elem[1]\n",
    "        \n",
    "# Удаляем из иерархии все элементы, у которых нет родителя         \n",
    "def del_curr_level_elems(hierarchy, curr_level_elems):\n",
    "    for elem in curr_level_elems:\n",
    "        hierarchy.remove([elem,''])\n",
    "\n",
    "# Заменяем родителя elem на '' (то есть возводим все элементы с родителем = elem до нулевого уровня иерархии)\n",
    "def del_par_cur_elem(h_wa, elem):\n",
    "    for i, hier_elem in enumerate(h_wa):\n",
    "            if hier_elem[1] == elem:\n",
    "                hier_elem[1] = ''\n",
    "\n",
    "# вставляем в список(hierarchy_parsed) пару (node, level). \n",
    "# Вставку делаем \"правильно\" то есть под элемент parentID \n",
    "def insert_node(hierarchy_parsed, node, parentID, level):\n",
    "    for i, elem in enumerate(hierarchy_parsed):\n",
    "        if elem[0] == parentID:\n",
    "            hierarchy_parsed.insert(i+1,[node,level])\n",
    "\n",
    "# Находим все элементы первого(наивысшего) уровня в иерархии h_wa\n",
    "def get_curr_level_nodes(h_wa, level):\n",
    "    curr_level_elems = list()\n",
    "    for elem in h_wa:\n",
    "        if elem[1] == '':\n",
    "            curr_level_elems.append(elem[0])\n",
    "    return sorted(curr_level_elems, reverse = (level != 0))"
   ]
  },
  {
   "cell_type": "code",
   "execution_count": 6,
   "metadata": {},
   "outputs": [],
   "source": [
    "# Создаем целевой список, тот который будем печатать\n",
    "hierarchy_parsed = list()\n",
    "\n",
    "level = 0\n",
    "\n",
    "#Делаем \"бесконечный\" цикл, пока все элементы из h_wa(начальной иерархии) не будут перенесены в список для печати hierarchy_parsed. \n",
    "#То есть в итоге список h_wa будет пустым. А hierarchy_parsed будет содержать все элементы иерархии.\n",
    "\n",
    "#По сути цикл идет по уровням иерархии (от наивысшего)\n",
    "#На каждой итерации мы будем определять все элементы текущего уровня иерархии.\n",
    "\n",
    "while True:\n",
    "\n",
    "#Из цикла выходим когда все элементы включены в список для печати hierarchy_parsed\n",
    "    if len(h_wa) == 0:\n",
    "        break\n",
    "\n",
    "#Находим все элементы, у которых нет родителя - их и будем включать в hierarchy_parsed      \n",
    "    curr_level_nodes = get_curr_level_nodes(h_wa, level)\n",
    "\n",
    "#Итерируемся по этим элементам    \n",
    "    for i, elem in enumerate(curr_level_nodes):\n",
    "#Вставляем элементы из curr_level_nodes в hierarchy_parsed в нужно порядке\n",
    "#То есть с индексом i+1, где i - индекс родителя\n",
    "#Элементы высшего уровня иерархии просто вставляем (сортировка уже сделана)\n",
    "        if level == 0:\n",
    "            hierarchy_parsed.insert(i, [elem, level])\n",
    "#Если node имеет родителя, то для него определяем parentID и вставляем элемент в hierarchy_parsed \n",
    "        else:\n",
    "            parentID = get_parentID(elem, hierarchy_list)\n",
    "            insert_node(hierarchy_parsed, elem, parentID, level)\n",
    "#Теперь удаляем элемент, который мы выше вставили в hierarchy_parsed \n",
    "        try:\n",
    "            h_wa.remove([elem, ''])\n",
    "        except ValueError:\n",
    "            pass\n",
    "#Теперь удаляем родителя для всех childID с родителем из curr_level_nodes\n",
    "#На следующей итерации мы будем \n",
    "        del_par_cur_elem(h_wa, elem)\n",
    "\n",
    "    level += 1"
   ]
  },
  {
   "cell_type": "code",
   "execution_count": 7,
   "metadata": {},
   "outputs": [
    {
     "name": "stdout",
     "output_type": "stream",
     "text": [
      " 01000000\n",
      "\t 01010000\n",
      "\t\t 01010100\n",
      "\t\t 01010200\n",
      "\t 01020000\n",
      " 02000000\n",
      "\t 02010000\n",
      "\t\t 02010100\n",
      "\t\t\t 02010101\n",
      " 03000000\n",
      "\t 03010000\n",
      " 04000000\n"
     ]
    }
   ],
   "source": [
    "#Выводим список на печать\n",
    "for elem in hierarchy_parsed:\n",
    "    print('\\t'*elem[1], elem[0])"
   ]
  }
 ],
 "metadata": {
  "kernelspec": {
   "display_name": "Python 3",
   "language": "python",
   "name": "python3"
  },
  "language_info": {
   "codemirror_mode": {
    "name": "ipython",
    "version": 3
   },
   "file_extension": ".py",
   "mimetype": "text/x-python",
   "name": "python",
   "nbconvert_exporter": "python",
   "pygments_lexer": "ipython3",
   "version": "3.7.3"
  }
 },
 "nbformat": 4,
 "nbformat_minor": 2
}
